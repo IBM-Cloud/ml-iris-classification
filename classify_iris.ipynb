{
    "cells": [
        {
            "cell_type": "markdown",
            "metadata": {},
            "source": "<table style='border: none' align='left'>\n   <tr style='border: none'>\n      <th style='border: none'><font face='verdana' size='5' color='black'><b>Iris multi-class classification with scikit-learn</b></th>\n      <th style='border: none'><img src='https://github.com/pmservice/customer-satisfaction-prediction/blob/master/app/static/images/ml_icon_gray.png?raw=true' alt='Watson Machine Learning icon' height='40' width='40'></th>\n   </tr>\n   <tr style='border: none'>\n       <th style='border: none'><img src='https://cloud.ibm.com/docs-content/v1/content/6b4d680b3820820b97fbf9b7db3c9d3658db8ac2/tutorials/images/solution22-build-machine-learning-model/iris_machinelearning.png' width='600' alt='Icon'> </th>\n   </tr>\n</table>"
        },
        {
            "cell_type": "markdown",
            "metadata": {},
            "source": "**Note:** _The notebook is part of a solution tutorial [Build, deploy, test, retrain and monitor a predictive machine learning model](https://cloud.ibm.com/docs/tutorials?topic=solution-tutorials-create-deploy-retrain-machine-learning-model) and used for demonstrating IBM Watson OpenScale only._\n\nThis notebook utilizes <a href=\"https://pypi.python.org/pypi/watson-machine-learning-client\" target=\"_blank\" rel=\"noopener noreferrer\">watson-machine-learning-client</a> package in order to save, deploy, and score a predictive model.\n\nSome familiarity with Python is helpful. This notebook uses Python 3.6, scikit-learn, and the Watson Machine Learning (WML) API client (`watson-machine-learning-client`).\n\nYou will use the sample **iris flower data set**.The Iris dataset was used in R.A. Fisher's classic 1936 paper, [The Use of Multiple Measurements in Taxonomic Problems](http://rcs.chemometrics.ru/Tutorials/classification/Fisher.pdf), and can also be found on the [UCI Machine Learning Repository](http://archive.ics.uci.edu/ml/). This small dataset is often used for testing out machine learning algorithms and visualizations. The aim is to classify Iris flowers among three species (Setosa, Versicolor or Virginica) from measurements of length and width of sepals and petals. The iris data set contains 3 classes of 50 instances each, where each class refers to a type of iris plant."
        },
        {
            "cell_type": "markdown",
            "metadata": {},
            "source": "<a id='setup'></a>\n## Set up the environment\n\nBefore you use the sample code in this notebook, you must perform the following setup tasks:\n\n-  Create a <a href=\"https://cloud.ibm.com/catalog/services/machine-learning\" target=\"_blank\" rel=\"noopener no referrer\">Watson Machine Learning (WML) Service</a> instance (a free plan is offered and information about how to create the instance can be found <a href=\"https://dataplatform.ibm.com/docs/content/analyze-data/wml-setup.html\" target=\"_blank\" rel=\"noopener no referrer\">here</a>)\n\n- Configure your local python environment:\n  + python 3.6\n  + scikit-learn 0.20.0\n  + watson-machine-learning-client"
        },
        {
            "cell_type": "markdown",
            "metadata": {},
            "source": "**Tip**: Run the cell below to install packages from <a href='https://pypi.python.org/pypi' target='_blank' rel='noopener no referrer'>PyPI</a>."
        },
        {
            "cell_type": "code",
            "execution_count": 1,
            "metadata": {},
            "outputs": [],
            "source": "# Remove current wml package files.\n!rm -rf $PIP_BUILD/watson-machine-learning-client"
        },
        {
            "cell_type": "code",
            "execution_count": 2,
            "metadata": {},
            "outputs": [
                {
                    "name": "stdout",
                    "output_type": "stream",
                    "text": "Collecting watson-machine-learning-client\n\u001b[?25l  Downloading https://files.pythonhosted.org/packages/12/67/66db412f00d19bfdc5725078bff373787513bfb14320f2804b9db3abb53a/watson_machine_learning_client-1.0.378-py3-none-any.whl (536kB)\n\u001b[K     |\u2588\u2588\u2588\u2588\u2588\u2588\u2588\u2588\u2588\u2588\u2588\u2588\u2588\u2588\u2588\u2588\u2588\u2588\u2588\u2588\u2588\u2588\u2588\u2588\u2588\u2588\u2588\u2588\u2588\u2588\u2588\u2588| 542kB 22.4MB/s eta 0:00:01\n\u001b[?25hRequirement already satisfied, skipping upgrade: tqdm in /opt/conda/envs/Python36/lib/python3.6/site-packages (from watson-machine-learning-client) (4.31.1)\nRequirement already satisfied, skipping upgrade: certifi in /opt/conda/envs/Python36/lib/python3.6/site-packages (from watson-machine-learning-client) (2020.4.5.1)\nRequirement already satisfied, skipping upgrade: requests in /opt/conda/envs/Python36/lib/python3.6/site-packages (from watson-machine-learning-client) (2.21.0)\nRequirement already satisfied, skipping upgrade: tabulate in /opt/conda/envs/Python36/lib/python3.6/site-packages (from watson-machine-learning-client) (0.8.2)\nRequirement already satisfied, skipping upgrade: lomond in /opt/conda/envs/Python36/lib/python3.6/site-packages (from watson-machine-learning-client) (0.3.3)\nRequirement already satisfied, skipping upgrade: ibm-cos-sdk in /opt/conda/envs/Python36/lib/python3.6/site-packages (from watson-machine-learning-client) (2.4.3)\nRequirement already satisfied, skipping upgrade: urllib3 in /opt/conda/envs/Python36/lib/python3.6/site-packages (from watson-machine-learning-client) (1.24.1)\nRequirement already satisfied, skipping upgrade: pandas in /opt/conda/envs/Python36/lib/python3.6/site-packages (from watson-machine-learning-client) (0.24.1)\nRequirement already satisfied, skipping upgrade: idna<2.9,>=2.5 in /opt/conda/envs/Python36/lib/python3.6/site-packages (from requests->watson-machine-learning-client) (2.8)\nRequirement already satisfied, skipping upgrade: chardet<3.1.0,>=3.0.2 in /opt/conda/envs/Python36/lib/python3.6/site-packages (from requests->watson-machine-learning-client) (3.0.4)\nRequirement already satisfied, skipping upgrade: six>=1.10.0 in /opt/conda/envs/Python36/lib/python3.6/site-packages (from lomond->watson-machine-learning-client) (1.12.0)\nRequirement already satisfied, skipping upgrade: ibm-cos-sdk-core==2.*,>=2.0.0 in /opt/conda/envs/Python36/lib/python3.6/site-packages (from ibm-cos-sdk->watson-machine-learning-client) (2.4.3)\nRequirement already satisfied, skipping upgrade: ibm-cos-sdk-s3transfer==2.*,>=2.0.0 in /opt/conda/envs/Python36/lib/python3.6/site-packages (from ibm-cos-sdk->watson-machine-learning-client) (2.4.3)\nRequirement already satisfied, skipping upgrade: numpy>=1.12.0 in /opt/conda/envs/Python36/lib/python3.6/site-packages (from pandas->watson-machine-learning-client) (1.15.4)\nRequirement already satisfied, skipping upgrade: pytz>=2011k in /opt/conda/envs/Python36/lib/python3.6/site-packages (from pandas->watson-machine-learning-client) (2018.9)\nRequirement already satisfied, skipping upgrade: python-dateutil>=2.5.0 in /opt/conda/envs/Python36/lib/python3.6/site-packages (from pandas->watson-machine-learning-client) (2.7.5)\nRequirement already satisfied, skipping upgrade: jmespath<1.0.0,>=0.7.1 in /opt/conda/envs/Python36/lib/python3.6/site-packages (from ibm-cos-sdk-core==2.*,>=2.0.0->ibm-cos-sdk->watson-machine-learning-client) (0.9.3)\nRequirement already satisfied, skipping upgrade: docutils>=0.10 in /opt/conda/envs/Python36/lib/python3.6/site-packages (from ibm-cos-sdk-core==2.*,>=2.0.0->ibm-cos-sdk->watson-machine-learning-client) (0.14)\nInstalling collected packages: watson-machine-learning-client\nSuccessfully installed watson-machine-learning-client-1.0.378\n"
                }
            ],
            "source": "# Install watson-machine-learning-client required for online deployment and scoring.\n!pip install --user watson-machine-learning-client --upgrade"
        },
        {
            "cell_type": "markdown",
            "metadata": {},
            "source": "<a id='load'></a>\n## Load and explore data"
        },
        {
            "cell_type": "markdown",
            "metadata": {},
            "source": "In this section, you will load the data from a sample iris `.csv` file"
        },
        {
            "cell_type": "code",
            "execution_count": 3,
            "metadata": {},
            "outputs": [
                {
                    "name": "stdout",
                    "output_type": "stream",
                    "text": "Collecting scikit-learn==0.20.0\n\u001b[?25l  Downloading https://files.pythonhosted.org/packages/0c/b2/05be9b6da9ae4a4c54f537be22e95833f722742a02b1e355fdc09363877c/scikit_learn-0.20.0-cp36-cp36m-manylinux1_x86_64.whl (5.3MB)\n\u001b[K     |\u2588\u2588\u2588\u2588\u2588\u2588\u2588\u2588\u2588\u2588\u2588\u2588\u2588\u2588\u2588\u2588\u2588\u2588\u2588\u2588\u2588\u2588\u2588\u2588\u2588\u2588\u2588\u2588\u2588\u2588\u2588\u2588| 5.3MB 9.8MB/s eta 0:00:01\n\u001b[?25hRequirement already satisfied: numpy>=1.8.2 in /opt/conda/envs/Python36/lib/python3.6/site-packages (from scikit-learn==0.20.0) (1.15.4)\nRequirement already satisfied: scipy>=0.13.3 in /opt/conda/envs/Python36/lib/python3.6/site-packages (from scikit-learn==0.20.0) (1.2.0)\n\u001b[31mERROR: autoai-libs 1.10.5 has requirement numpy>=1.16.4, but you'll have numpy 1.15.4 which is incompatible.\u001b[0m\n\u001b[31mERROR: autoai-libs 1.10.5 has requirement pandas>=0.24.2, but you'll have pandas 0.24.1 which is incompatible.\u001b[0m\n\u001b[31mERROR: autoai-libs 1.10.5 has requirement scikit-learn==0.20.3, but you'll have scikit-learn 0.20.0 which is incompatible.\u001b[0m\nInstalling collected packages: scikit-learn\n  Found existing installation: scikit-learn 0.20.3\n    Uninstalling scikit-learn-0.20.3:\n      Successfully uninstalled scikit-learn-0.20.3\nSuccessfully installed scikit-learn-0.20.0\n"
                }
            ],
            "source": "!pip install scikit-learn==0.20.0"
        },
        {
            "cell_type": "code",
            "execution_count": 4,
            "metadata": {},
            "outputs": [
                {
                    "name": "stdout",
                    "output_type": "stream",
                    "text": "(150, 5)\nIndex(['sepal_length', 'sepal_width', 'petal_length', 'petal_width',\n       'species'],\n      dtype='object')\n"
                }
            ],
            "source": "import pandas as pd\n\niris = pd.read_csv(\"https://raw.githubusercontent.com/IBM-Cloud/ml-iris-classification/master/data/iris.csv\")\n# download the file\nprint(iris.shape)\nprint(iris.columns)"
        },
        {
            "cell_type": "markdown",
            "metadata": {},
            "source": "The sample data set consists of 8x8 pixel images of hand-written digits."
        },
        {
            "cell_type": "code",
            "execution_count": 5,
            "metadata": {},
            "outputs": [
                {
                    "data": {
                        "text/plain": "(150, 5)"
                    },
                    "execution_count": 5,
                    "metadata": {},
                    "output_type": "execute_result"
                }
            ],
            "source": "iris.shape"
        },
        {
            "cell_type": "markdown",
            "metadata": {},
            "source": "Display the first digit data and label using **data** and **target**. The hand-written digit shown below is an 8x8 pixel image represented by an array."
        },
        {
            "cell_type": "code",
            "execution_count": 6,
            "metadata": {},
            "outputs": [
                {
                    "data": {
                        "text/plain": "<bound method NDFrame.describe of      sepal_length  sepal_width  petal_length  petal_width    species\n0             5.1          3.5           1.4          0.2     setosa\n1             4.9          3.0           1.4          0.2     setosa\n2             4.7          3.2           1.3          0.2     setosa\n3             4.6          3.1           1.5          0.2     setosa\n4             5.0          3.6           1.4          0.2     setosa\n5             5.4          3.9           1.7          0.4     setosa\n6             4.6          3.4           1.4          0.3     setosa\n7             5.0          3.4           1.5          0.2     setosa\n8             4.4          2.9           1.4          0.2     setosa\n9             4.9          3.1           1.5          0.1     setosa\n10            5.4          3.7           1.5          0.2     setosa\n11            4.8          3.4           1.6          0.2     setosa\n12            4.8          3.0           1.4          0.1     setosa\n13            4.3          3.0           1.1          0.1     setosa\n14            5.8          4.0           1.2          0.2     setosa\n15            5.7          4.4           1.5          0.4     setosa\n16            5.4          3.9           1.3          0.4     setosa\n17            5.1          3.5           1.4          0.3     setosa\n18            5.7          3.8           1.7          0.3     setosa\n19            5.1          3.8           1.5          0.3     setosa\n20            5.4          3.4           1.7          0.2     setosa\n21            5.1          3.7           1.5          0.4     setosa\n22            4.6          3.6           1.0          0.2     setosa\n23            5.1          3.3           1.7          0.5     setosa\n24            4.8          3.4           1.9          0.2     setosa\n25            5.0          3.0           1.6          0.2     setosa\n26            5.0          3.4           1.6          0.4     setosa\n27            5.2          3.5           1.5          0.2     setosa\n28            5.2          3.4           1.4          0.2     setosa\n29            4.7          3.2           1.6          0.2     setosa\n..            ...          ...           ...          ...        ...\n120           6.9          3.2           5.7          2.3  virginica\n121           5.6          2.8           4.9          2.0  virginica\n122           7.7          2.8           6.7          2.0  virginica\n123           6.3          2.7           4.9          1.8  virginica\n124           6.7          3.3           5.7          2.1  virginica\n125           7.2          3.2           6.0          1.8  virginica\n126           6.2          2.8           4.8          1.8  virginica\n127           6.1          3.0           4.9          1.8  virginica\n128           6.4          2.8           5.6          2.1  virginica\n129           7.2          3.0           5.8          1.6  virginica\n130           7.4          2.8           6.1          1.9  virginica\n131           7.9          3.8           6.4          2.0  virginica\n132           6.4          2.8           5.6          2.2  virginica\n133           6.3          2.8           5.1          1.5  virginica\n134           6.1          2.6           5.6          1.4  virginica\n135           7.7          3.0           6.1          2.3  virginica\n136           6.3          3.4           5.6          2.4  virginica\n137           6.4          3.1           5.5          1.8  virginica\n138           6.0          3.0           4.8          1.8  virginica\n139           6.9          3.1           5.4          2.1  virginica\n140           6.7          3.1           5.6          2.4  virginica\n141           6.9          3.1           5.1          2.3  virginica\n142           5.8          2.7           5.1          1.9  virginica\n143           6.8          3.2           5.9          2.3  virginica\n144           6.7          3.3           5.7          2.5  virginica\n145           6.7          3.0           5.2          2.3  virginica\n146           6.3          2.5           5.0          1.9  virginica\n147           6.5          3.0           5.2          2.0  virginica\n148           6.2          3.4           5.4          2.3  virginica\n149           5.9          3.0           5.1          1.8  virginica\n\n[150 rows x 5 columns]>"
                    },
                    "execution_count": 6,
                    "metadata": {},
                    "output_type": "execute_result"
                }
            ],
            "source": "iris.describe"
        },
        {
            "cell_type": "markdown",
            "metadata": {},
            "source": "<a id='model'></a>\n## Create a scikit-learn model"
        },
        {
            "cell_type": "markdown",
            "metadata": {},
            "source": "### Split data<a id='prep'></a>\n\nIn this section you will split your data into: \n- Train data set\n- Test data set"
        },
        {
            "cell_type": "code",
            "execution_count": 7,
            "metadata": {},
            "outputs": [],
            "source": "from sklearn.model_selection import train_test_split\niris_training, iris_test = train_test_split(iris, test_size=0.2)\n# separate x and y variables from data\niris_training_y = iris_training[\"species\"]\niris_training_x = iris_training.drop(\"species\", axis=1)\n\niris_test_y = iris_test[\"species\"]\niris_test_x = iris_test.drop(\"species\", axis=1)"
        },
        {
            "cell_type": "code",
            "execution_count": 8,
            "metadata": {},
            "outputs": [
                {
                    "name": "stdout",
                    "output_type": "stream",
                    "text": "sepal_length    120\nsepal_width     120\npetal_length    120\npetal_width     120\ndtype: int64\n"
                }
            ],
            "source": "print(iris_training_x.count())"
        },
        {
            "cell_type": "markdown",
            "metadata": {},
            "source": "### Train a model<a id='train'></a>"
        },
        {
            "cell_type": "code",
            "execution_count": 9,
            "metadata": {},
            "outputs": [],
            "source": "from sklearn import tree\nclassifier=tree.DecisionTreeClassifier()"
        },
        {
            "cell_type": "code",
            "execution_count": 10,
            "metadata": {},
            "outputs": [
                {
                    "data": {
                        "text/plain": "DecisionTreeClassifier(class_weight=None, criterion='gini', max_depth=None,\n            max_features=None, max_leaf_nodes=None,\n            min_impurity_decrease=0.0, min_impurity_split=None,\n            min_samples_leaf=1, min_samples_split=2,\n            min_weight_fraction_leaf=0.0, presort=False, random_state=None,\n            splitter='best')"
                    },
                    "execution_count": 10,
                    "metadata": {},
                    "output_type": "execute_result"
                }
            ],
            "source": "classifier.fit(iris_training_x,iris_training_y)"
        },
        {
            "cell_type": "markdown",
            "metadata": {},
            "source": "### Test the model"
        },
        {
            "cell_type": "code",
            "execution_count": 11,
            "metadata": {},
            "outputs": [],
            "source": "predictions=classifier.predict(iris_test_x)"
        },
        {
            "cell_type": "code",
            "execution_count": 12,
            "metadata": {},
            "outputs": [
                {
                    "name": "stdout",
                    "output_type": "stream",
                    "text": "0.9333333333333333\n"
                }
            ],
            "source": "from sklearn.metrics import accuracy_score\nprint(accuracy_score(iris_test_y,predictions))"
        },
        {
            "cell_type": "markdown",
            "metadata": {
                "collapsed": true
            },
            "source": "**Note:** You can tune your model, or try creating classification models to achieve better accuracy. For simplicity of this example, the tuning section and model selection are omitted."
        },
        {
            "cell_type": "markdown",
            "metadata": {
                "collapsed": true
            },
            "source": "<a id='persistence'></a>\n## Save, load, and delete a model in the WML repository"
        },
        {
            "cell_type": "markdown",
            "metadata": {},
            "source": "In this section, you will learn how to use the `watson-machine-learning-client` package to manage your model in the WML repository."
        },
        {
            "cell_type": "markdown",
            "metadata": {},
            "source": "**Tip**: You can find more information about the watson-machine-learning-client <a href=\"https://console.bluemix.net/docs/services/service_credentials.html#service_credentials\" target=\"_blank\" rel=\"noopener no referrer\">here</a>[](https://wml-api-pyclient.mybluemix.net)."
        },
        {
            "cell_type": "markdown",
            "metadata": {},
            "source": "### Set up the WML instance<a id='work'></a>"
        },
        {
            "cell_type": "markdown",
            "metadata": {
                "collapsed": true
            },
            "source": "First, import required modules."
        },
        {
            "cell_type": "code",
            "execution_count": 13,
            "metadata": {},
            "outputs": [],
            "source": "from watson_machine_learning_client import WatsonMachineLearningAPIClient"
        },
        {
            "cell_type": "markdown",
            "metadata": {},
            "source": "**Note**: A deprecation warning is returned from scikit-learn package that does not impact watson machine learning client functionalities.\nAuthenticate to the Watson Machine Learning service on the IBM Cloud.\n\n**Tip**: Authentication information (your credentials) can be found in the <a href=\"https://dataplatform.cloud.ibm.com/docs/content/wsj/analyze-data/ml-get-wml-credentials.html\" target=\"_blank\" rel=\"noopener no referrer\">Service credentials</a> tab of the service instance that you created on the IBM Cloud. <BR>If you cannot find the **instance_id** field in **Service Credentials**, click **New credential (+)** to generate new authentication information. \n\n**Action**: Enter your Watson Machine Learning service instance credentials here without any trailing spaces.\n"
        },
        {
            "cell_type": "code",
            "execution_count": 14,
            "metadata": {},
            "outputs": [],
            "source": "wml_credentials = {\n    \"apikey\": \"<API_KEY>\",\n    \"instance_id\": \"<INSTANCE_ID>\",\n    \"url\": \"<URL>\"\n}"
        },
        {
            "cell_type": "markdown",
            "metadata": {},
            "source": "#### Instantiate the WML API client object. "
        },
        {
            "cell_type": "code",
            "execution_count": 15,
            "metadata": {},
            "outputs": [],
            "source": "client = WatsonMachineLearningAPIClient(wml_credentials)"
        },
        {
            "cell_type": "markdown",
            "metadata": {},
            "source": "#### Get instance details."
        },
        {
            "cell_type": "code",
            "execution_count": 16,
            "metadata": {},
            "outputs": [],
            "source": "import json\n\ninstance_details = client.service_instance.get_details()"
        },
        {
            "cell_type": "markdown",
            "metadata": {},
            "source": "### Save the model in the WML repository<a id='save'></a>"
        },
        {
            "cell_type": "markdown",
            "metadata": {},
            "source": "Define the model name when saving the model in the WML repository."
        },
        {
            "cell_type": "code",
            "execution_count": 17,
            "metadata": {},
            "outputs": [],
            "source": "published_model = client.repository.store_model(model=classifier, meta_props={'name':'scikit iris model'}, \\\n                                                training_data=iris_training_x, training_target=iris_training_y)"
        },
        {
            "cell_type": "markdown",
            "metadata": {},
            "source": "#### Get information about a specific model in the WML repository."
        },
        {
            "cell_type": "code",
            "execution_count": 18,
            "metadata": {},
            "outputs": [
                {
                    "name": "stdout",
                    "output_type": "stream",
                    "text": "{\n  \"metadata\": {\n    \"guid\": \"86886f03-00ae-4de2-8200-958c45f00459\",\n    \"url\": \"https://us-south.ml.cloud.ibm.com/v3/wml_instances/e97f9e84-eefc-4eb8-bb6d-7dbfc33bb536/published_models/86886f03-00ae-4de2-8200-958c45f00459\",\n    \"created_at\": \"2020-04-21T06:15:54.672Z\",\n    \"modified_at\": \"2020-04-21T06:15:54.744Z\"\n  },\n  \"entity\": {\n    \"runtime_environment\": \"python-3.6\",\n    \"learning_configuration_url\": \"https://us-south.ml.cloud.ibm.com/v3/wml_instances/e97f9e84-eefc-4eb8-bb6d-7dbfc33bb536/published_models/86886f03-00ae-4de2-8200-958c45f00459/learning_configuration\",\n    \"name\": \"scikit iris model\",\n    \"label_col\": \"species\",\n    \"learning_iterations_url\": \"https://us-south.ml.cloud.ibm.com/v3/wml_instances/e97f9e84-eefc-4eb8-bb6d-7dbfc33bb536/published_models/86886f03-00ae-4de2-8200-958c45f00459/learning_iterations\",\n    \"training_data_schema\": {\n      \"features\": {\n        \"type\": \"DataFrame\",\n        \"fields\": [\n          {\n            \"name\": \"sepal_length\",\n            \"type\": \"float64\"\n          },\n          {\n            \"name\": \"sepal_width\",\n            \"type\": \"float64\"\n          },\n          {\n            \"name\": \"petal_length\",\n            \"type\": \"float64\"\n          },\n          {\n            \"name\": \"petal_width\",\n            \"type\": \"float64\"\n          }\n        ]\n      },\n      \"labels\": {\n        \"type\": \"Series\",\n        \"fields\": [\n          {\n            \"name\": \"species\",\n            \"type\": \"object\"\n          }\n        ]\n      }\n    },\n    \"feedback_url\": \"https://us-south.ml.cloud.ibm.com/v3/wml_instances/e97f9e84-eefc-4eb8-bb6d-7dbfc33bb536/published_models/86886f03-00ae-4de2-8200-958c45f00459/feedback\",\n    \"latest_version\": {\n      \"url\": \"https://us-south.ml.cloud.ibm.com/v3/ml_assets/models/86886f03-00ae-4de2-8200-958c45f00459/versions/8bbd6183-dfee-4eb6-9eed-ec53ad40eb1c\",\n      \"guid\": \"8bbd6183-dfee-4eb6-9eed-ec53ad40eb1c\",\n      \"created_at\": \"2020-04-21T06:15:54.744Z\"\n    },\n    \"model_type\": \"scikit-learn-0.20\",\n    \"deployments\": {\n      \"count\": 0,\n      \"url\": \"https://us-south.ml.cloud.ibm.com/v3/wml_instances/e97f9e84-eefc-4eb8-bb6d-7dbfc33bb536/published_models/86886f03-00ae-4de2-8200-958c45f00459/deployments\"\n    },\n    \"evaluation_metrics_url\": \"https://us-south.ml.cloud.ibm.com/v3/wml_instances/e97f9e84-eefc-4eb8-bb6d-7dbfc33bb536/published_models/86886f03-00ae-4de2-8200-958c45f00459/evaluation_metrics\",\n    \"input_data_schema\": {\n      \"features\": {\n        \"type\": \"DataFrame\",\n        \"fields\": [\n          {\n            \"name\": \"sepal_length\",\n            \"type\": \"float64\"\n          },\n          {\n            \"name\": \"sepal_width\",\n            \"type\": \"float64\"\n          },\n          {\n            \"name\": \"petal_length\",\n            \"type\": \"float64\"\n          },\n          {\n            \"name\": \"petal_width\",\n            \"type\": \"float64\"\n          }\n        ]\n      },\n      \"labels\": {\n        \"type\": \"Series\",\n        \"fields\": [\n          {\n            \"name\": \"species\",\n            \"type\": \"object\"\n          }\n        ]\n      }\n    }\n  }\n}\n"
                }
            ],
            "source": "published_model_uid = client.repository.get_model_uid(published_model)\nmodel_details = client.repository.get_details(published_model_uid)\n\nprint(json.dumps(model_details, indent=2))"
        },
        {
            "cell_type": "markdown",
            "metadata": {},
            "source": "#### Get information of all the models in the WML repository."
        },
        {
            "cell_type": "code",
            "execution_count": 19,
            "metadata": {},
            "outputs": [
                {
                    "name": "stdout",
                    "output_type": "stream",
                    "text": "------------------------------------  -----------------  ------------------------  -----------------\nGUID                                  NAME               CREATED                   FRAMEWORK\n86886f03-00ae-4de2-8200-958c45f00459  scikit iris model  2020-04-21T06:15:54.672Z  scikit-learn-0.20\n------------------------------------  -----------------  ------------------------  -----------------\n"
                }
            ],
            "source": "models_details = client.repository.list_models()"
        },
        {
            "cell_type": "markdown",
            "metadata": {},
            "source": "### Load a model from the WML repository<a id='load_model'></a>"
        },
        {
            "cell_type": "markdown",
            "metadata": {},
            "source": "In this subsection, you will learn how to load a saved model from a specific WML instance."
        },
        {
            "cell_type": "code",
            "execution_count": 20,
            "metadata": {},
            "outputs": [],
            "source": "loaded_model = client.repository.load(published_model_uid)"
        },
        {
            "cell_type": "markdown",
            "metadata": {},
            "source": "Make test predictions to check that the model has been loaded correctly."
        },
        {
            "cell_type": "code",
            "execution_count": 21,
            "metadata": {},
            "outputs": [
                {
                    "name": "stdout",
                    "output_type": "stream",
                    "text": "     sepal_length  sepal_width  petal_length  petal_width\n82            5.8          2.7           3.9          1.2\n134           6.1          2.6           5.6          1.4\n114           5.8          2.8           5.1          2.4\n42            4.4          3.2           1.3          0.2\n109           7.2          3.6           6.1          2.5\n57            4.9          2.4           3.3          1.0\n1             4.9          3.0           1.4          0.2\n70            5.9          3.2           4.8          1.8\n25            5.0          3.0           1.6          0.2\n84            5.4          3.0           4.5          1.5\n"
                }
            ],
            "source": "test_predictions = loaded_model.predict(iris_test_x[:10])\nprint(iris_test_x[:10])"
        },
        {
            "cell_type": "code",
            "execution_count": 22,
            "metadata": {},
            "outputs": [
                {
                    "name": "stdout",
                    "output_type": "stream",
                    "text": "['versicolor' 'virginica' 'virginica' 'setosa' 'virginica' 'virginica'\n 'setosa' 'virginica' 'setosa' 'versicolor']\n"
                }
            ],
            "source": "# The predictions made by the model.\nprint(test_predictions)"
        },
        {
            "cell_type": "markdown",
            "metadata": {},
            "source": "As you can see, you are able to make predictions which means that the model has loaded correctly. You have now learned how save and load the model in/from the WML repository."
        },
        {
            "cell_type": "markdown",
            "metadata": {},
            "source": "### Delete a model from the WML repository<a id='delete'></a>"
        },
        {
            "cell_type": "markdown",
            "metadata": {},
            "source": "The code in the following cell deletes a published model from the WML repository. The code is not executable at this stage because you still need the model for deployment."
        },
        {
            "cell_type": "raw",
            "metadata": {},
            "source": "client.repository.delete(published_model_uid)"
        },
        {
            "cell_type": "markdown",
            "metadata": {},
            "source": "<a id='scoring'></a>\n## Deploy and score data in the WML repository"
        },
        {
            "cell_type": "markdown",
            "metadata": {},
            "source": "In this section, you will learn how to use the WML API client to perform online scoring and score a test data record."
        },
        {
            "cell_type": "markdown",
            "metadata": {},
            "source": "### Create an online deployment for the published model<a id='create'></a>"
        },
        {
            "cell_type": "code",
            "execution_count": 23,
            "metadata": {},
            "outputs": [
                {
                    "name": "stdout",
                    "output_type": "stream",
                    "text": "\n\n#######################################################################################\n\nSynchronous deployment creation for uid: '86886f03-00ae-4de2-8200-958c45f00459' started\n\n#######################################################################################\n\n\nINITIALIZING\nDEPLOY_SUCCESS\n\n\n------------------------------------------------------------------------------------------------\nSuccessfully finished deployment creation, deployment_uid='916af631-f34f-4e29-951d-baf5bd2eb964'\n------------------------------------------------------------------------------------------------\n\n\n"
                }
            ],
            "source": "created_deployment = client.deployments.create(published_model_uid, 'Deployment of scikit model')"
        },
        {
            "cell_type": "markdown",
            "metadata": {},
            "source": "**Note**: You use the deployment url saved in published_model_uid object. The next section shows you how to retrieve the deployment url from the WML instance."
        },
        {
            "cell_type": "markdown",
            "metadata": {},
            "source": "Now, you can define and print an online scoring endpoint. "
        },
        {
            "cell_type": "markdown",
            "metadata": {},
            "source": " 5.2 Get deployments<a id='getdeploy'></a>"
        },
        {
            "cell_type": "code",
            "execution_count": 24,
            "metadata": {},
            "outputs": [
                {
                    "name": "stdout",
                    "output_type": "stream",
                    "text": "https://us-south.ml.cloud.ibm.com/v3/wml_instances/e97f9e84-eefc-4eb8-bb6d-7dbfc33bb536/deployments/916af631-f34f-4e29-951d-baf5bd2eb964/online\n"
                }
            ],
            "source": "deployments = client.deployments.get_details()\nscoring_endpoint = client.deployments.get_scoring_url(created_deployment)\n\nprint(scoring_endpoint)"
        },
        {
            "cell_type": "markdown",
            "metadata": {},
            "source": "You can get the deployment_url by parsing the deployment details for the last deployed model."
        },
        {
            "cell_type": "markdown",
            "metadata": {},
            "source": "### Score data<a id='score'></a>"
        },
        {
            "cell_type": "markdown",
            "metadata": {},
            "source": "Use the following method to run a test scoring request against the deployed model."
        },
        {
            "cell_type": "markdown",
            "metadata": {},
            "source": "**Action**: Prepare scoring payload with the records to score."
        },
        {
            "cell_type": "code",
            "execution_count": 2,
            "metadata": {},
            "outputs": [
                {
                    "ename": "NameError",
                    "evalue": "name 'client' is not defined",
                    "output_type": "error",
                    "traceback": [
                        "\u001b[0;31m---------------------------------------------------------------------------\u001b[0m",
                        "\u001b[0;31mNameError\u001b[0m                                 Traceback (most recent call last)",
                        "\u001b[0;32m<ipython-input-2-8e4920abd0b3>\u001b[0m in \u001b[0;36m<module>\u001b[0;34m\u001b[0m\n\u001b[1;32m      9\u001b[0m         \u001b[0;34m'values'\u001b[0m\u001b[0;34m:\u001b[0m \u001b[0;34m[\u001b[0m\u001b[0marray_of_values_to_be_scored\u001b[0m\u001b[0;34m,\u001b[0m\u001b[0manother_array_of_values_to_be_scored\u001b[0m\u001b[0;34m]\u001b[0m\u001b[0;34m\u001b[0m\u001b[0;34m\u001b[0m\u001b[0m\n\u001b[1;32m     10\u001b[0m     }\n\u001b[0;32m---> 11\u001b[0;31m     \u001b[0mpredictions\u001b[0m \u001b[0;34m=\u001b[0m \u001b[0mclient\u001b[0m\u001b[0;34m.\u001b[0m\u001b[0mdeployments\u001b[0m\u001b[0;34m.\u001b[0m\u001b[0mscore\u001b[0m\u001b[0;34m(\u001b[0m\u001b[0mscoring_endpoint\u001b[0m\u001b[0;34m,\u001b[0m \u001b[0mscoring_data\u001b[0m\u001b[0;34m)\u001b[0m\u001b[0;34m\u001b[0m\u001b[0;34m\u001b[0m\u001b[0m\n\u001b[0m",
                        "\u001b[0;31mNameError\u001b[0m: name 'client' is not defined"
                    ]
                }
            ],
            "source": "import random\nfor i in range(100):\n    array_of_values_to_be_scored = [round(random.uniform(0.0, 10.0), 1), round(random.uniform(\n        0.0, 10.0), 1), round(random.uniform(0.0, 10.0), 1), round(random.uniform(0.0, 10.0), 1)]\n    another_array_of_values_to_be_scored = [round(random.uniform(0.0, 10.0), 1), round(random.uniform(\n        0.0, 10.0), 1), round(random.uniform(0.0, 10.0), 1), round(random.uniform(0.0, 10.0), 1)]\n    scoring_data = {\n        'fields': ['sepal_length', 'sepal_width', 'petal_length', 'petal_width'], \n        'values': [array_of_values_to_be_scored,another_array_of_values_to_be_scored]\n    }\n    predictions = client.deployments.score(scoring_endpoint, scoring_data)"
        },
        {
            "cell_type": "markdown",
            "metadata": {},
            "source": "Use the ``client.deployments.score()`` method to run the scoring."
        },
        {
            "cell_type": "markdown",
            "metadata": {},
            "source": "###  Delete the deployment<a id='deldeploy'></a>"
        },
        {
            "cell_type": "markdown",
            "metadata": {},
            "source": "Use the following method to delete the deployment."
        },
        {
            "cell_type": "raw",
            "metadata": {},
            "source": "client.deployments.delete(client.deployments.get_uid(created_deployment))"
        },
        {
            "cell_type": "markdown",
            "metadata": {},
            "source": "You can check that your deployment was deleted by generating a list of your saved deployments:"
        },
        {
            "cell_type": "raw",
            "metadata": {},
            "source": "client.deployments.list()"
        },
        {
            "cell_type": "markdown",
            "metadata": {},
            "source": "### Delete the model<a id='delmodel'></a>"
        },
        {
            "cell_type": "raw",
            "metadata": {},
            "source": "client.repository.delete(published_model_uid)"
        },
        {
            "cell_type": "markdown",
            "metadata": {},
            "source": "You can check that your model was deleted by generating a list of your saved models:"
        },
        {
            "cell_type": "raw",
            "metadata": {},
            "source": "client.repository.list_models()"
        },
        {
            "cell_type": "markdown",
            "metadata": {
                "collapsed": true
            },
            "source": "<a id='summary'></a>\n## Summary and next steps     "
        },
        {
            "cell_type": "markdown",
            "metadata": {},
            "source": "<div style='background:#F5F7FA; height:110px; padding: 2em; font-size:14px;'>\n<span style='font-size:18px;color:#152935;'>Love this notebook? </span>\n<span style='font-size:15px;color:#152935;float:right;margin-right:40px;'>Don't have an account yet?</span><br>\n<span style='color:#5A6872;'>Share it with your colleagues and help them discover the power of Watson Studio!</span>\n<span style='border: 1px solid #3d70b2;padding:8px;float:right;margin-right:40px; color:#3d70b2;'><a href='https://ibm.co/wsnotebooks' target='_blank' style='color: #3d70b2;text-decoration: none;'>Sign Up</a></span><br>\n</div>"
        }
    ],
    "metadata": {
        "kernelspec": {
            "display_name": "Python 3.6",
            "language": "python",
            "name": "python3"
        },
        "language_info": {
            "codemirror_mode": {
                "name": "ipython",
                "version": 3
            },
            "file_extension": ".py",
            "mimetype": "text/x-python",
            "name": "python",
            "nbconvert_exporter": "python",
            "pygments_lexer": "ipython3",
            "version": "3.6.9"
        }
    },
    "nbformat": 4,
    "nbformat_minor": 1
}