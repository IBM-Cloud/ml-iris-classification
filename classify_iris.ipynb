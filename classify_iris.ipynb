{
    "cells": [
        {
            "cell_type": "markdown",
            "metadata": {},
            "source": "<table style='border: none' align='left'>\n   <tr style='border: none'>\n      <th style='border: none'><font face='verdana' size='5' color='black'><b>Iris multi-class classification with scikit-learn</b></th>\n      <th style='border: none'><img src='https://github.com/pmservice/customer-satisfaction-prediction/blob/master/app/static/images/ml_icon_gray.png?raw=true' alt='Watson Machine Learning icon' height='40' width='40'></th>\n   </tr>\n   <tr style='border: none'>\n       <th style='border: none'><img src='https://cloud.ibm.com/docs-content/v1/content/6b4d680b3820820b97fbf9b7db3c9d3658db8ac2/tutorials/images/solution22-build-machine-learning-model/iris_machinelearning.png' width='600' alt='Icon'> </th>\n   </tr>\n</table>"
        },
        {
            "cell_type": "markdown",
            "metadata": {},
            "source": "**Note:** _The notebook is part of a solution tutorial [Build, deploy, test, retrain and monitor a predictive machine learning model](https://cloud.ibm.com/docs/tutorials?topic=solution-tutorials-create-deploy-retrain-machine-learning-model) and used for demonstrating IBM Watson OpenScale only._\n\nThis notebook utilizes <a href=\"https://pypi.python.org/pypi/watson-machine-learning-client\" target=\"_blank\" rel=\"noopener noreferrer\">watson-machine-learning-client</a> package in order to save, deploy, and score a predictive model.\n\nSome familiarity with Python is helpful. This notebook uses Python 3.6, scikit-learn, and the Watson Machine Learning (WML) API client (`watson-machine-learning-client`).\n\nYou will use the sample **iris flower data set**.The Iris dataset was used in R.A. Fisher's classic 1936 paper, [The Use of Multiple Measurements in Taxonomic Problems](http://rcs.chemometrics.ru/Tutorials/classification/Fisher.pdf), and can also be found on the [UCI Machine Learning Repository](http://archive.ics.uci.edu/ml/). This small dataset is often used for testing out machine learning algorithms and visualizations. The aim is to classify Iris flowers among three species (Setosa, Versicolor or Virginica) from measurements of length and width of sepals and petals. The iris data set contains 3 classes of 50 instances each, where each class refers to a type of iris plant."
        },
        {
            "cell_type": "markdown",
            "metadata": {},
            "source": "<a id='setup'></a>\n## Set up the environment\n\nBefore you use the sample code in this notebook, you must perform the following setup tasks:\n\n-  Create a <a href=\"https://cloud.ibm.com/catalog/services/machine-learning\" target=\"_blank\" rel=\"noopener no referrer\">Watson Machine Learning (WML) Service</a> instance (a free plan is offered and information about how to create the instance can be found <a href=\"https://dataplatform.ibm.com/docs/content/analyze-data/wml-setup.html\" target=\"_blank\" rel=\"noopener no referrer\">here</a>)\n\n- Configure your local python environment:\n  + python 3.6\n  + scikit-learn 0.20.0\n  + watson-machine-learning-client"
        },
        {
            "cell_type": "markdown",
            "metadata": {},
            "source": "**Tip**: Run the cell below to install packages from <a href='https://pypi.python.org/pypi' target='_blank' rel='noopener no referrer'>PyPI</a>."
        },
        {
            "cell_type": "code",
            "execution_count": null,
            "metadata": {},
            "outputs": [],
            "source": "# Remove current wml package files.\n!rm -rf $PIP_BUILD/watson-machine-learning-client"
        },
        {
            "cell_type": "code",
            "execution_count": null,
            "metadata": {},
            "outputs": [],
            "source": "# Install watson-machine-learning-client required for online deployment and scoring.\n!pip install --user watson-machine-learning-client --upgrade"
        },
        {
            "cell_type": "markdown",
            "metadata": {},
            "source": "<a id='load'></a>\n## Load and explore data"
        },
        {
            "cell_type": "markdown",
            "metadata": {},
            "source": "In this section, you will load the data from a sample iris `.csv` file"
        },
        {
            "cell_type": "code",
            "execution_count": null,
            "metadata": {},
            "outputs": [],
            "source": "!pip install scikit-learn==0.20.0"
        },
        {
            "cell_type": "code",
            "execution_count": null,
            "metadata": {},
            "outputs": [],
            "source": "import pandas as pd\n\niris = pd.read_csv(\"https://raw.githubusercontent.com/IBM-Cloud/ml-iris-classification/master/data/iris.csv\")\n# download the file\nprint(iris.shape)\nprint(iris.columns)"
        },
        {
            "cell_type": "markdown",
            "metadata": {},
            "source": "The sample data set consists of 8x8 pixel images of hand-written digits."
        },
        {
            "cell_type": "code",
            "execution_count": null,
            "metadata": {},
            "outputs": [],
            "source": "iris.shape"
        },
        {
            "cell_type": "markdown",
            "metadata": {},
            "source": "Display the first digit data and label using **data** and **target**. The hand-written digit shown below is an 8x8 pixel image represented by an array."
        },
        {
            "cell_type": "code",
            "execution_count": null,
            "metadata": {},
            "outputs": [],
            "source": "iris.describe"
        },
        {
            "cell_type": "markdown",
            "metadata": {},
            "source": "<a id='model'></a>\n## Create a scikit-learn model"
        },
        {
            "cell_type": "markdown",
            "metadata": {},
            "source": "### Split data<a id='prep'></a>\n\nIn this section you will split your data into: \n- Train data set\n- Test data set"
        },
        {
            "cell_type": "code",
            "execution_count": null,
            "metadata": {},
            "outputs": [],
            "source": "from sklearn.model_selection import train_test_split\niris_training, iris_test = train_test_split(iris, test_size=0.2, random_state=5)\n# separate x and y variables from data\niris_training_y = iris_training[\"species\"]\niris_training_x = iris_training.drop(\"species\", axis=1)\n\niris_test_y = iris_test[\"species\"]\niris_test_x = iris_test.drop(\"species\", axis=1)"
        },
        {
            "cell_type": "code",
            "execution_count": null,
            "metadata": {},
            "outputs": [],
            "source": "print(iris_training_x.count())"
        },
        {
            "cell_type": "markdown",
            "metadata": {},
            "source": "### Train a model<a id='train'></a>"
        },
        {
            "cell_type": "code",
            "execution_count": null,
            "metadata": {},
            "outputs": [],
            "source": "from sklearn import tree\nclassifier=tree.DecisionTreeClassifier()"
        },
        {
            "cell_type": "code",
            "execution_count": null,
            "metadata": {},
            "outputs": [],
            "source": "classifier.fit(iris_training_x,iris_training_y)"
        },
        {
            "cell_type": "markdown",
            "metadata": {},
            "source": "### Test the model"
        },
        {
            "cell_type": "code",
            "execution_count": null,
            "metadata": {},
            "outputs": [],
            "source": "predictions=classifier.predict(iris_test_x)"
        },
        {
            "cell_type": "code",
            "execution_count": null,
            "metadata": {},
            "outputs": [],
            "source": "from sklearn.metrics import accuracy_score\nprint(accuracy_score(iris_test_y,predictions))"
        },
        {
            "cell_type": "markdown",
            "metadata": {
                "collapsed": true
            },
            "source": "**Note:** You can tune your model, or try creating classification models to achieve better accuracy. For simplicity of this example, the tuning section and model selection are omitted."
        },
        {
            "cell_type": "markdown",
            "metadata": {
                "collapsed": true
            },
            "source": "<a id='persistence'></a>\n## Save, load, and delete a model in the WML repository"
        },
        {
            "cell_type": "markdown",
            "metadata": {},
            "source": "In this section, you will learn how to use the `watson-machine-learning-client` package to manage your model in the WML repository."
        },
        {
            "cell_type": "markdown",
            "metadata": {},
            "source": "**Tip**: You can find more information about the watson-machine-learning-client <a href=\"https://console.bluemix.net/docs/services/service_credentials.html#service_credentials\" target=\"_blank\" rel=\"noopener no referrer\">here</a>[](https://wml-api-pyclient.mybluemix.net)."
        },
        {
            "cell_type": "markdown",
            "metadata": {},
            "source": "### Set up the WML instance<a id='work'></a>"
        },
        {
            "cell_type": "markdown",
            "metadata": {
                "collapsed": true
            },
            "source": "First, import required modules."
        },
        {
            "cell_type": "code",
            "execution_count": null,
            "metadata": {},
            "outputs": [],
            "source": "from watson_machine_learning_client import WatsonMachineLearningAPIClient"
        },
        {
            "cell_type": "markdown",
            "metadata": {},
            "source": "**Note**: A deprecation warning is returned from scikit-learn package that does not impact watson machine learning client functionalities.\nAuthenticate to the Watson Machine Learning service on the IBM Cloud.\n\n**Tip**: Authentication information (your credentials) can be found in the <a href=\"https://dataplatform.cloud.ibm.com/docs/content/wsj/analyze-data/ml-get-wml-credentials.html\" target=\"_blank\" rel=\"noopener no referrer\">Service credentials</a> tab of the service instance that you created on the IBM Cloud. <BR>If you cannot find the **instance_id** field in **Service Credentials**, click **New credential (+)** to generate new authentication information. \n\n**Action**: Enter your Watson Machine Learning service instance credentials here.\n"
        },
        {
            "cell_type": "code",
            "execution_count": null,
            "metadata": {},
            "outputs": [],
            "source": "wml_credentials = {\n    \"apikey\": \"***\",\n    \"instance_id\": \"***\",\n    \"url\": \"https://us-south.ml.cloud.ibm.com\"\n}"
        },
        {
            "cell_type": "markdown",
            "metadata": {},
            "source": "#### Instantiate the WML API client object. "
        },
        {
            "cell_type": "code",
            "execution_count": null,
            "metadata": {},
            "outputs": [],
            "source": "client = WatsonMachineLearningAPIClient(wml_credentials)"
        },
        {
            "cell_type": "markdown",
            "metadata": {},
            "source": "#### Get instance details."
        },
        {
            "cell_type": "code",
            "execution_count": null,
            "metadata": {},
            "outputs": [],
            "source": "import json\n\ninstance_details = client.service_instance.get_details()"
        },
        {
            "cell_type": "markdown",
            "metadata": {},
            "source": "### Save the model in the WML repository<a id='save'></a>"
        },
        {
            "cell_type": "markdown",
            "metadata": {},
            "source": "Define the model name when saving the model in the WML repository."
        },
        {
            "cell_type": "code",
            "execution_count": null,
            "metadata": {},
            "outputs": [],
            "source": "published_model = client.repository.store_model(model=classifier, meta_props={'name':'scikit iris model'}, \\\n                                                training_data=iris_training_x, training_target=iris_training_y)"
        },
        {
            "cell_type": "markdown",
            "metadata": {},
            "source": "#### Get information about a specific model in the WML repository."
        },
        {
            "cell_type": "code",
            "execution_count": null,
            "metadata": {},
            "outputs": [],
            "source": "published_model_uid = client.repository.get_model_uid(published_model)\nmodel_details = client.repository.get_details(published_model_uid)\n\nprint(json.dumps(model_details, indent=2))"
        },
        {
            "cell_type": "markdown",
            "metadata": {},
            "source": "#### Get information of all the models in the WML repository."
        },
        {
            "cell_type": "code",
            "execution_count": null,
            "metadata": {},
            "outputs": [],
            "source": "models_details = client.repository.list_models()"
        },
        {
            "cell_type": "markdown",
            "metadata": {},
            "source": "### Load a model from the WML repository<a id='load_model'></a>"
        },
        {
            "cell_type": "markdown",
            "metadata": {},
            "source": "In this subsection, you will learn how to load a saved model from a specific WML instance."
        },
        {
            "cell_type": "code",
            "execution_count": null,
            "metadata": {},
            "outputs": [],
            "source": "loaded_model = client.repository.load(published_model_uid)"
        },
        {
            "cell_type": "markdown",
            "metadata": {},
            "source": "Make test predictions to check that the model has been loaded correctly."
        },
        {
            "cell_type": "code",
            "execution_count": null,
            "metadata": {},
            "outputs": [],
            "source": "test_predictions = loaded_model.predict(iris_test_x[:10])\nprint(iris_test_x[:10])"
        },
        {
            "cell_type": "code",
            "execution_count": null,
            "metadata": {},
            "outputs": [],
            "source": "# The predictions made by the model.\nprint(test_predictions)"
        },
        {
            "cell_type": "markdown",
            "metadata": {},
            "source": "As you can see, you are able to make predictions which means that the model has loaded correctly. You have now learned how save and load the model in/from the WML repository."
        },
        {
            "cell_type": "markdown",
            "metadata": {},
            "source": "### Delete a model from the WML repository<a id='delete'></a>"
        },
        {
            "cell_type": "markdown",
            "metadata": {},
            "source": "The code in the following cell deletes a published model from the WML repository. The code is not executable at this stage because you still need the model for deployment."
        },
        {
            "cell_type": "raw",
            "metadata": {},
            "source": "client.repository.delete(published_model_uid)"
        },
        {
            "cell_type": "markdown",
            "metadata": {},
            "source": "<a id='scoring'></a>\n## Deploy and score data in the WML repository"
        },
        {
            "cell_type": "markdown",
            "metadata": {},
            "source": "In this section, you will learn how to use the WML API client to perform online scoring and score a test data record."
        },
        {
            "cell_type": "markdown",
            "metadata": {},
            "source": "### Create an online deployment for the published model<a id='create'></a>"
        },
        {
            "cell_type": "code",
            "execution_count": null,
            "metadata": {},
            "outputs": [],
            "source": "created_deployment = client.deployments.create(published_model_uid, 'Deployment of scikit model')"
        },
        {
            "cell_type": "markdown",
            "metadata": {},
            "source": "**Note**: You use the deployment url saved in published_model_uid object. The next section shows you how to retrieve the deployment url from the WML instance."
        },
        {
            "cell_type": "markdown",
            "metadata": {},
            "source": "Now, you can define and print an online scoring endpoint. "
        },
        {
            "cell_type": "markdown",
            "metadata": {},
            "source": " 5.2 Get deployments<a id='getdeploy'></a>"
        },
        {
            "cell_type": "code",
            "execution_count": null,
            "metadata": {},
            "outputs": [],
            "source": "deployments = client.deployments.get_details()\nscoring_endpoint = client.deployments.get_scoring_url(created_deployment)\n\nprint(scoring_endpoint)"
        },
        {
            "cell_type": "markdown",
            "metadata": {},
            "source": "You can get the deployment_url by parsing the deployment details for the last deployed model."
        },
        {
            "cell_type": "markdown",
            "metadata": {},
            "source": "### Score data<a id='score'></a>"
        },
        {
            "cell_type": "markdown",
            "metadata": {},
            "source": "Use the following method to run a test scoring request against the deployed model."
        },
        {
            "cell_type": "markdown",
            "metadata": {},
            "source": "**Action**: Prepare scoring payload with the records to score."
        },
        {
            "cell_type": "code",
            "execution_count": null,
            "metadata": {},
            "outputs": [],
            "source": "import random\nfor i in range(100):\n    array_of_values_to_be_scored = [round(random.uniform(0.0, 10.0), 1), round(random.uniform(\n        0.0, 10.0), 1), round(random.uniform(0.0, 10.0), 1), round(random.uniform(0.0, 10.0), 1)]\n    another_array_of_values_to_be_scored = [round(random.uniform(0.0, 10.0), 1), round(random.uniform(\n        0.0, 10.0), 1), round(random.uniform(0.0, 10.0), 1), round(random.uniform(0.0, 10.0), 1)]\n    scoring_data = {\n        'fields': ['sepal_length', 'sepal_width', 'petal_length', 'petal_width'], \n        'values': [array_of_values_to_be_scored,another_array_of_values_to_be_scored]\n    }\n    predictions = client.deployments.score(scoring_endpoint, scoring_data)"
        },
        {
            "cell_type": "markdown",
            "metadata": {},
            "source": "Use the ``client.deployments.score()`` method to run the scoring."
        },
        {
            "cell_type": "markdown",
            "metadata": {},
            "source": "###  Delete the deployment<a id='deldeploy'></a>"
        },
        {
            "cell_type": "markdown",
            "metadata": {},
            "source": "Use the following method to delete the deployment."
        },
        {
            "cell_type": "raw",
            "metadata": {},
            "source": "client.deployments.delete(client.deployments.get_uid(created_deployment))"
        },
        {
            "cell_type": "markdown",
            "metadata": {},
            "source": "You can check that your deployment was deleted by generating a list of your saved deployments:"
        },
        {
            "cell_type": "raw",
            "metadata": {},
            "source": "client.deployments.list()"
        },
        {
            "cell_type": "markdown",
            "metadata": {},
            "source": "### Delete the model<a id='delmodel'></a>"
        },
        {
            "cell_type": "raw",
            "metadata": {},
            "source": "client.repository.delete(published_model_uid)"
        },
        {
            "cell_type": "markdown",
            "metadata": {},
            "source": "You can check that your model was deleted by generating a list of your saved models:"
        },
        {
            "cell_type": "raw",
            "metadata": {},
            "source": "client.repository.list_models()"
        },
        {
            "cell_type": "markdown",
            "metadata": {
                "collapsed": true
            },
            "source": "<a id='summary'></a>\n## Summary and next steps     "
        },
        {
            "cell_type": "markdown",
            "metadata": {},
            "source": "<div style='background:#F5F7FA; height:110px; padding: 2em; font-size:14px;'>\n<span style='font-size:18px;color:#152935;'>Love this notebook? </span>\n<span style='font-size:15px;color:#152935;float:right;margin-right:40px;'>Don't have an account yet?</span><br>\n<span style='color:#5A6872;'>Share it with your colleagues and help them discover the power of Watson Studio!</span>\n<span style='border: 1px solid #3d70b2;padding:8px;float:right;margin-right:40px; color:#3d70b2;'><a href='https://ibm.co/wsnotebooks' target='_blank' style='color: #3d70b2;text-decoration: none;'>Sign Up</a></span><br>\n</div>"
        }
    ],
    "metadata": {
        "kernelspec": {
            "display_name": "Python 3.6",
            "language": "python",
            "name": "python3"
        },
        "language_info": {
            "codemirror_mode": {
                "name": "ipython",
                "version": 3
            },
            "file_extension": ".py",
            "mimetype": "text/x-python",
            "name": "python",
            "nbconvert_exporter": "python",
            "pygments_lexer": "ipython3",
            "version": "3.6.9"
        }
    },
    "nbformat": 4,
    "nbformat_minor": 1
}