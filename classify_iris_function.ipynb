{
    "cells": [
        {
            "cell_type": "markdown",
            "metadata": {},
            "source": "<table style='border: none' align='left'>\n   <tr style='border: none'>\n      <th style='border: none'><font face='verdana' size='5' color='black'><b>Iris classification: Deploying Python functions in Watson Machine Learning </b></th>\n       <th style='border: none'><img src='https://github.com/pmservice/customer-satisfaction-prediction/blob/master/app/static/images/ml_icon_gray.png?raw=true' alt='Watson Machine Learning icon' height='40' width='40'></th>\n   </tr>\n</table>"
        },
        {
            "cell_type": "markdown",
            "metadata": {},
            "source": "**Note:** _The notebook is part of a solution tutorial [Build, deploy, test and monitor a predictive machine learning model](https://cloud.ibm.com/docs/tutorials?topic=solution-tutorials-create-deploy-retrain-machine-learning-model) and demonstrates how to deploy and score a Python function_.\n\nThis notebook utilizes <a href=\"https://pypi.python.org/pypi/watson-machine-learning-client\" target=\"_blank\" rel=\"noopener noreferrer\">watson-machine-learning-client</a> package in order to deploy, and score a python function.\n\nSome familiarity with Python is helpful. This notebook uses Python 3.6 and the Watson Machine Learning (WML) API client (`watson-machine-learning-client`).\n\nYou can deploy Python functions in Watson Machine Learning the same way that you can deploy models. Your tools and apps can use the Watson Machine Learning Python client or REST API to send data to your deployed functions the same way that they send data to deployed models. Deploying functions gives you the ability to hide details (such as credentials), preprocess data before passing it to models, perform error handling, and include calls to multiple models, all within the deployed function instead of in your application.\n\nYou will use the sample **iris flower data set**.The Iris dataset was used in R.A. Fisher's classic 1936 paper, [The Use of Multiple Measurements in Taxonomic Problems](http://rcs.chemometrics.ru/Tutorials/classification/Fisher.pdf), and can also be found on the [UCI Machine Learning Repository](http://archive.ics.uci.edu/ml/). This small dataset is often used for testing out machine learning algorithms and visualizations. The aim is to classify Iris flowers among three species (Setosa, Versicolor or Virginica) from measurements of length and width of sepals and petals. The iris data set contains 3 classes of 50 instances each, where each class refers to a type of iris plant."
        },
        {
            "cell_type": "markdown",
            "metadata": {},
            "source": "<a id='setup'></a>\n## Set up the environment\n\nBefore you use the sample code in this notebook, you must perform the following setup tasks:\n\n-  Create a <a href=\"https://cloud.ibm.com/catalog/services/machine-learning\" target=\"_blank\" rel=\"noopener no referrer\">Watson Machine Learning (WML) Service</a> instance (a free plan is offered and information about how to create the instance can be found <a href=\"https://dataplatform.ibm.com/docs/content/analyze-data/wml-setup.html\" target=\"_blank\" rel=\"noopener no referrer\">here</a>)\n\n- Configure your local python environment:\n  + python 3.6\n  + watson-machine-learning-client"
        },
        {
            "cell_type": "markdown",
            "metadata": {},
            "source": "### Provide WML credentials and model deployment endpoint\n**Tip**: Authentication information (your credentials) can be found in the <a href=\"https://dataplatform.cloud.ibm.com/docs/content/wsj/analyze-data/ml-get-wml-credentials.html\" target=\"_blank\" rel=\"noopener no referrer\">Service credentials</a> tab of the service instance that you created on the IBM Cloud. <BR>If you cannot find the **instance_id** field in **Service Credentials**, click **New credential (+)** to generate new authentication information. \n\nFor `model_deployment_endpoint_url`, refer the [Try out the API](https://cloud.ibm.com/docs/tutorials?topic=solution-tutorials-create-deploy-retrain-machine-learning-model#try_api) section of the tutorial.\n\n**Action**: Enter your Watson Machine Learning service instance credentials here without any trailing spaces."
        },
        {
            "cell_type": "code",
            "execution_count": null,
            "metadata": {},
            "outputs": [],
            "source": "wml_credentials = {\n    \"apikey\": \"<API_KEY>\",\n    \"instance_id\": \"<INSTANCE_ID>\",\n    \"url\": \"<URL>\"\n}\nmodel_deployment_endpoint_url = \"<SCORING_ENDPOINT>\""
        },
        {
            "cell_type": "markdown",
            "metadata": {},
            "source": "**Tip**: Run the cell below to install packages from <a href='https://pypi.python.org/pypi' target='_blank' rel='noopener no referrer'>PyPI</a>."
        },
        {
            "cell_type": "markdown",
            "metadata": {},
            "source": "## Install the Watson Machine Learning client"
        },
        {
            "cell_type": "code",
            "execution_count": null,
            "metadata": {},
            "outputs": [],
            "source": "# Remove current wml package files.\n!rm -rf $PIP_BUILD/watson-machine-learning-client"
        },
        {
            "cell_type": "code",
            "execution_count": null,
            "metadata": {},
            "outputs": [],
            "source": "# Install watson-machine-learning-client required for online deployment and scoring.\n!pip install --user watson-machine-learning-client --upgrade"
        },
        {
            "cell_type": "code",
            "execution_count": null,
            "metadata": {},
            "outputs": [],
            "source": "from watson_machine_learning_client import WatsonMachineLearningAPIClient"
        },
        {
            "cell_type": "code",
            "execution_count": null,
            "metadata": {},
            "outputs": [],
            "source": "client = WatsonMachineLearningAPIClient(wml_credentials)\nclient.version"
        },
        {
            "cell_type": "markdown",
            "metadata": {},
            "source": "## Payload logging for AI function - Python function"
        },
        {
            "cell_type": "code",
            "execution_count": null,
            "metadata": {},
            "outputs": [],
            "source": "ai_params = { \"wml_credentials\" : wml_credentials,\n             \"model_deployment_endpoint_url\" : model_deployment_endpoint_url }\n\ndef iris_deployable_function( params=ai_params ):\n\n    from watson_machine_learning_client import WatsonMachineLearningAPIClient\n    client = WatsonMachineLearningAPIClient( params[\"wml_credentials\"] )\n    \n    def score( payload ):\n        payload_v4 = {'input_data':[payload]}\n    \n        return client.deployments.score( params[\"model_deployment_endpoint_url\"], payload_v4 )\n\n    return score"
        },
        {
            "cell_type": "code",
            "execution_count": null,
            "metadata": {},
            "outputs": [],
            "source": "sample_data={\n     \"fields\": [\"sepal_length\", \"sepal_width\", \"petal_length\", \"petal_width\"],\n     \"values\": [\n       [5.1,3.5,1.4,0.2], [3.2,1.2,5.2,1.7]\n     ]\n }"
        },
        {
            "cell_type": "markdown",
            "metadata": {},
            "source": "### Test the function locally"
        },
        {
            "cell_type": "code",
            "execution_count": null,
            "metadata": {},
            "outputs": [],
            "source": "score = iris_deployable_function()\nscore(sample_data)"
        },
        {
            "cell_type": "markdown",
            "metadata": {},
            "source": "### Store the function"
        },
        {
            "cell_type": "code",
            "execution_count": null,
            "metadata": {},
            "outputs": [],
            "source": "client.repository.FunctionMetaNames.show()"
        },
        {
            "cell_type": "code",
            "execution_count": null,
            "metadata": {},
            "outputs": [],
            "source": "meta_data = {\n    client.repository.FunctionMetaNames.NAME: 'IRIS classification - AI Function',\n    client.repository.FunctionMetaNames.DESCRIPTION: \"This is AI function for IRIS classification\"\n}\n\nfunction_details = client.repository.store_function(meta_props=meta_data, function=iris_deployable_function)"
        },
        {
            "cell_type": "code",
            "execution_count": null,
            "metadata": {},
            "outputs": [],
            "source": "client.repository.list_functions()"
        },
        {
            "cell_type": "markdown",
            "metadata": {},
            "source": "### Deploy the function"
        },
        {
            "cell_type": "code",
            "execution_count": null,
            "metadata": {},
            "outputs": [],
            "source": "function_uid = client.repository.get_function_uid(function_details)\n\nfunction_deployment_details = client.deployments.create(artifact_uid=function_uid, name='IRIS classification - AI Function')"
        },
        {
            "cell_type": "markdown",
            "metadata": {},
            "source": "### Score the function"
        },
        {
            "cell_type": "code",
            "execution_count": null,
            "metadata": {},
            "outputs": [],
            "source": "ai_function_scoring_endpoint = client.deployments.get_scoring_url(function_deployment_details)\n\nprint(ai_function_scoring_endpoint)"
        },
        {
            "cell_type": "code",
            "execution_count": null,
            "metadata": {
                "scrolled": true
            },
            "outputs": [],
            "source": "import random\nfor i in range(100):\n    array_of_values_to_be_scored = [round(random.uniform(0.0, 10.0), 1), round(random.uniform(\n        0.0, 10.0), 1), round(random.uniform(0.0, 10.0), 1), round(random.uniform(0.0, 10.0), 1)]\n    another_array_of_values_to_be_scored = [round(random.uniform(0.0, 10.0), 1), round(random.uniform(\n        0.0, 10.0), 1), round(random.uniform(0.0, 10.0), 1), round(random.uniform(0.0, 10.0), 1)]\n    sample_data = {\n        'fields': ['sepal_length', 'sepal_width', 'petal_length', 'petal_width'], \n        'values': [array_of_values_to_be_scored,another_array_of_values_to_be_scored]\n    }\n    \n    response = client.deployments.score(ai_function_scoring_endpoint, sample_data)\n    print(response)"
        },
        {
            "cell_type": "markdown",
            "metadata": {},
            "source": "### Citations\nCopyright \u00a9 2020 IBM. This notebook and its source code are released under the terms of the MIT License.\n\nLove this notebook? Don't have an account yet?<br/>\nShare it with your colleagues and help them discover the power of Watson Studio! [Sign Up](https://dataplatform.cloud.ibm.com/registration/stepone)"
        }
    ],
    "metadata": {
        "kernelspec": {
            "display_name": "Python 3.6",
            "language": "python",
            "name": "python3"
        },
        "language_info": {
            "codemirror_mode": {
                "name": "ipython",
                "version": 3
            },
            "file_extension": ".py",
            "mimetype": "text/x-python",
            "name": "python",
            "nbconvert_exporter": "python",
            "pygments_lexer": "ipython3",
            "version": "3.6.9"
        }
    },
    "nbformat": 4,
    "nbformat_minor": 1
}